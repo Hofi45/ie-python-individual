{
 "cells": [
  {
   "cell_type": "markdown",
   "metadata": {},
   "source": [
    "# Bike sharing in Washington\n",
    "<em>Individual Project Python<em>\n",
    "___"
   ]
  },
  {
   "cell_type": "markdown",
   "metadata": {},
   "source": [
    "                              Master in Business Analytics & Big data\n",
    "                                 Professor Juan Luis Cano Rodriguez\n",
    "                                           Martin Hofbauer\n",
    "                                              _________"
   ]
  },
  {
   "cell_type": "markdown",
   "metadata": {},
   "source": [
    "## Libraries"
   ]
  },
  {
   "cell_type": "code",
   "execution_count": 68,
   "metadata": {},
   "outputs": [],
   "source": [
    "from distributed import Client, progress\n",
    "import dask\n",
    "import dask.dataframe as dd\n",
    "import dask.array as da\n",
    "import numpy as np\n",
    "import dask_ml\n",
    "from dask_ml.preprocessing import Categorizer, DummyEncoder\n",
    "import pandas as pd\n",
    "from sklearn.pipeline import Pipeline, make_pipeline\n",
    "from dask_ml.linear_model import LinearRegression\n",
    "from dask_ml.metrics import mean_squared_error\n",
    "from dask_ml.metrics import r2_score"
   ]
  },
  {
   "cell_type": "code",
   "execution_count": 58,
   "metadata": {},
   "outputs": [
    {
     "name": "stderr",
     "output_type": "stream",
     "text": [
      "C:\\Users\\Martin\\Anaconda3\\lib\\site-packages\\distributed\\bokeh\\core.py:57: UserWarning: \n",
      "Failed to start diagnostics server on port 8787. [WinError 10048] Normalerweise darf jede Socketadresse (Protokoll, Netzwerkadresse oder Anschluss) nur jeweils einmal verwendet werden\n",
      "  warnings.warn('\\n' + msg)\n"
     ]
    },
    {
     "data": {
      "text/html": [
       "<table style=\"border: 2px solid white;\">\n",
       "<tr>\n",
       "<td style=\"vertical-align: top; border: 0px solid white\">\n",
       "<h3>Client</h3>\n",
       "<ul>\n",
       "  <li><b>Scheduler: </b>tcp://127.0.0.1:56691\n",
       "  <li><b>Dashboard: </b><a href='http://127.0.0.1:56694/status' target='_blank'>http://127.0.0.1:56694/status</a>\n",
       "</ul>\n",
       "</td>\n",
       "<td style=\"vertical-align: top; border: 0px solid white\">\n",
       "<h3>Cluster</h3>\n",
       "<ul>\n",
       "  <li><b>Workers: </b>4</li>\n",
       "  <li><b>Cores: </b>8</li>\n",
       "  <li><b>Memory: </b>17.10 GB</li>\n",
       "</ul>\n",
       "</td>\n",
       "</tr>\n",
       "</table>"
      ],
      "text/plain": [
       "<Client: scheduler='tcp://127.0.0.1:56691' processes=4 cores=8>"
      ]
     },
     "execution_count": 58,
     "metadata": {},
     "output_type": "execute_result"
    }
   ],
   "source": [
    "client = Client()\n",
    "client"
   ]
  },
  {
   "cell_type": "markdown",
   "metadata": {},
   "source": [
    "## Data Loading"
   ]
  },
  {
   "cell_type": "code",
   "execution_count": 59,
   "metadata": {},
   "outputs": [],
   "source": [
    "hour_data = dd.read_csv(\n",
    "    \"https://gist.githubusercontent.com/geraldwal/b5a83f4c670abe0a662abce558e5d433/raw/bce4bbfc63355606e4503964e25798b5d2190b9b/hour%2520-%2520Python%2520Bike%2520Sharing\",\n",
    "    sep=\",\",\n",
    "    parse_dates=[\"dteday\"],\n",
    ")"
   ]
  },
  {
   "cell_type": "markdown",
   "metadata": {},
   "source": [
    "## Preparation for Baseline"
   ]
  },
  {
   "cell_type": "markdown",
   "metadata": {},
   "source": [
    "### Renaming the Colums"
   ]
  },
  {
   "cell_type": "code",
   "execution_count": 60,
   "metadata": {},
   "outputs": [],
   "source": [
    "new_columns = [\n",
    "    \"instant\",\n",
    "    \"dteday\",\n",
    "    \"season\",\n",
    "    \"year\",\n",
    "    \"month\",\n",
    "    \"hour\",\n",
    "    \"holiday\",\n",
    "    \"weekday\",\n",
    "    \"workingday\",\n",
    "    \"weather\",\n",
    "    \"temp\",\n",
    "    \"atemp\",\n",
    "    \"humidity\",\n",
    "    \"windspeed\",\n",
    "    \"casual\",\n",
    "    \"registered\",\n",
    "    \"count\",\n",
    "]\n",
    "hour_data= hour_data.rename(columns=dict(zip(hour_data.columns, new_columns)))"
   ]
  },
  {
   "cell_type": "code",
   "execution_count": 32,
   "metadata": {},
   "outputs": [],
   "source": [
    "hour_data = hour_data.drop([\"dteday\"], axis=1)"
   ]
  },
  {
   "cell_type": "markdown",
   "metadata": {},
   "source": [
    "### Applying the Corrrect Datatypes and DummyEncoding"
   ]
  },
  {
   "cell_type": "code",
   "execution_count": 33,
   "metadata": {},
   "outputs": [],
   "source": [
    "categs = ['season', 'year', 'month', 'hour', 'holiday', 'weekday', 'workingday', 'weather']"
   ]
  },
  {
   "cell_type": "code",
   "execution_count": 34,
   "metadata": {},
   "outputs": [],
   "source": [
    "pipeline = make_pipeline(Categorizer(columns=categs), DummyEncoder(columns=categs))\n",
    "hour_data_cl_hot_encoded = pipeline.fit_transform(hour_data)"
   ]
  },
  {
   "cell_type": "code",
   "execution_count": 71,
   "metadata": {},
   "outputs": [
    {
     "data": {
      "text/plain": [
       "instant           int64\n",
       "temp            float64\n",
       "atemp           float64\n",
       "humidity        float64\n",
       "windspeed       float64\n",
       "casual            int64\n",
       "registered        int64\n",
       "count             int64\n",
       "season_1          uint8\n",
       "season_2          uint8\n",
       "season_3          uint8\n",
       "season_4          uint8\n",
       "year_0            uint8\n",
       "year_1            uint8\n",
       "month_1           uint8\n",
       "month_2           uint8\n",
       "month_3           uint8\n",
       "month_4           uint8\n",
       "month_5           uint8\n",
       "month_6           uint8\n",
       "month_7           uint8\n",
       "month_8           uint8\n",
       "month_9           uint8\n",
       "month_10          uint8\n",
       "month_11          uint8\n",
       "month_12          uint8\n",
       "hour_0            uint8\n",
       "hour_1            uint8\n",
       "hour_2            uint8\n",
       "hour_3            uint8\n",
       "                 ...   \n",
       "hour_9            uint8\n",
       "hour_10           uint8\n",
       "hour_11           uint8\n",
       "hour_12           uint8\n",
       "hour_13           uint8\n",
       "hour_14           uint8\n",
       "hour_15           uint8\n",
       "hour_16           uint8\n",
       "hour_17           uint8\n",
       "hour_18           uint8\n",
       "hour_19           uint8\n",
       "hour_20           uint8\n",
       "hour_21           uint8\n",
       "hour_22           uint8\n",
       "hour_23           uint8\n",
       "holiday_0         uint8\n",
       "holiday_1         uint8\n",
       "weekday_6         uint8\n",
       "weekday_0         uint8\n",
       "weekday_1         uint8\n",
       "weekday_2         uint8\n",
       "weekday_3         uint8\n",
       "weekday_4         uint8\n",
       "weekday_5         uint8\n",
       "workingday_0      uint8\n",
       "workingday_1      uint8\n",
       "weather_1         uint8\n",
       "weather_2         uint8\n",
       "weather_3         uint8\n",
       "weather_4         uint8\n",
       "Length: 65, dtype: object"
      ]
     },
     "execution_count": 71,
     "metadata": {},
     "output_type": "execute_result"
    }
   ],
   "source": [
    "hour_data_cl_hot_encoded.dtypes"
   ]
  },
  {
   "cell_type": "markdown",
   "metadata": {},
   "source": [
    "### Splitting the Dataset"
   ]
  },
  {
   "cell_type": "markdown",
   "metadata": {},
   "source": [
    "The intital Split function needed to be adapted a bit, including a .loc after the X and y. Furthermore, the trainsize needed to be reduced by 1 in order not to have rows included in both train and test."
   ]
  },
  {
   "cell_type": "code",
   "execution_count": 35,
   "metadata": {},
   "outputs": [],
   "source": [
    "def split_data(dataset, Target):\n",
    "    X = dataset.loc[:, dataset.columns != Target]\n",
    "    y = dataset.loc[:, Target]\n",
    "    train_size = int(len(dataset) * 0.875)\n",
    "    X_train, X_test, y_train, y_test = (\n",
    "        X.loc[0:train_size -1],\n",
    "        X.loc[train_size : len(dataset)],\n",
    "        y.loc[0:train_size -1],\n",
    "        y.loc[train_size : len(dataset)],\n",
    "    )\n",
    "    return X_train, X_test, y_train, y_test"
   ]
  },
  {
   "cell_type": "code",
   "execution_count": 36,
   "metadata": {
    "scrolled": false
   },
   "outputs": [],
   "source": [
    "x_train_reg, x_test_reg, y_train_reg, y_test_reg = split_data(hour_data_cl_hot_encoded, \"registered\")\n",
    "x_train_casual, x_test_casual, y_train_casual, y_test_casual = split_data(hour_data_cl_hot_encoded, \"casual\")\n",
    "x_train_count, x_test_count, y_train_count, y_test_count = split_data(hour_data_cl_hot_encoded, \"count\")"
   ]
  },
  {
   "cell_type": "code",
   "execution_count": 37,
   "metadata": {},
   "outputs": [],
   "source": [
    "x_train_reg_drop, x_test_reg_drop = (\n",
    "    x_train_reg.drop([\"casual\", \"count\"], axis=1),\n",
    "    x_test_reg.drop([\"casual\", \"count\"], axis=1),\n",
    ")"
   ]
  },
  {
   "cell_type": "code",
   "execution_count": 38,
   "metadata": {},
   "outputs": [],
   "source": [
    "x_train_reg_arr, x_test_reg_arr, y_train_reg_arr, y_test_reg_arr = (\n",
    "    x_train_reg_drop.values,\n",
    "    x_test_reg_drop.values,\n",
    "    y_train_reg.values,\n",
    "    y_test_reg.values,\n",
    ")"
   ]
  },
  {
   "cell_type": "code",
   "execution_count": 39,
   "metadata": {},
   "outputs": [],
   "source": [
    "x_train_casual_drop, x_test_casual_drop = (\n",
    "    x_train_casual.drop([\"registered\", \"count\"], axis=1),\n",
    "    x_test_casual.drop([\"registered\", \"count\"], axis=1),\n",
    ")"
   ]
  },
  {
   "cell_type": "code",
   "execution_count": 40,
   "metadata": {},
   "outputs": [],
   "source": [
    "x_train_casual_arr, x_test_casual_arr, y_train_casual_arr, y_test_casual_arr = (\n",
    "    x_train_casual_drop.values,\n",
    "    x_test_casual_drop.values,\n",
    "    y_train_casual.values,\n",
    "    y_test_casual.values,\n",
    ")"
   ]
  },
  {
   "cell_type": "code",
   "execution_count": 41,
   "metadata": {},
   "outputs": [],
   "source": [
    "x_train_count_drop, x_test_count_drop = (\n",
    "    x_train_count.drop([\"casual\", \"registered\"], axis=1),\n",
    "    x_test_count.drop([\"casual\", \"registered\"], axis=1),\n",
    ")"
   ]
  },
  {
   "cell_type": "code",
   "execution_count": 42,
   "metadata": {},
   "outputs": [],
   "source": [
    "x_train_count_arr, x_test_count_arr, y_train_count_arr, y_test_count_arr = (\n",
    "    x_train_count_drop.values,\n",
    "    x_test_count_drop.values,\n",
    "    y_train_count.values,\n",
    "    y_test_count.values,\n",
    ")"
   ]
  },
  {
   "cell_type": "code",
   "execution_count": 72,
   "metadata": {},
   "outputs": [],
   "source": [
    "def score_lin(X_train, X_test, y_train, y_test):\n",
    "    lm = LinearRegression()\n",
    "    lm.fit(X_train, y_train)\n",
    "    y_pred = lm.predict(X_test)\n",
    "    print(\"Intercept:\", lm.intercept_)\n",
    "    print(\"Coefficients:\", lm.coef_)\n",
    "    print(\"Mean squared error (MSE): {:.2f}\".format(mean_squared_error(y_test, y_pred)))\n",
    "    #print(\"Variance score (R2): {:.2f}\".format(r2_score(y_test, y_pred)))\n",
    "    return y_pred"
   ]
  },
  {
   "cell_type": "code",
   "execution_count": 73,
   "metadata": {},
   "outputs": [
    {
     "name": "stderr",
     "output_type": "stream",
     "text": [
      "C:\\Users\\Martin\\Anaconda3\\lib\\site-packages\\dask\\blockwise.py:590: FutureWarning: elementwise comparison failed; returning scalar instead, but in the future will perform elementwise comparison\n",
      "  contains = index in indices\n",
      "C:\\Users\\Martin\\Anaconda3\\lib\\site-packages\\dask\\blockwise.py:595: FutureWarning: elementwise comparison failed; returning scalar instead, but in the future will perform elementwise comparison\n",
      "  sub[blockwise_token(i)] = blockwise_token(indices.index(index))\n"
     ]
    },
    {
     "name": "stdout",
     "output_type": "stream",
     "text": [
      "Intercept: -46.42112740023391\n",
      "Coefficients: [ 6.43302601e+01  4.50575452e-03  1.17771970e+02  9.29013330e+01\n",
      " -8.26383575e+01 -3.01002803e+01 -1.75271798e+01  1.14335274e+01\n",
      " -2.06408918e+00  2.39771706e+01 -2.25634845e+01  2.64342305e+01\n",
      " -8.27196825e+00 -5.96714879e+00  7.66168075e+00  4.24776439e+00\n",
      "  1.86606490e+01  6.22753287e+00 -9.64980103e+00  6.60016121e+00\n",
      "  2.77375273e+01  5.40501318e+00 -1.21735800e+01 -1.46738021e+01\n",
      " -1.16708998e+02 -1.34093669e+02 -1.42242065e+02 -1.53280421e+02\n",
      " -1.56498566e+02 -1.40354809e+02 -8.32647284e+01  4.63709524e+01\n",
      "  1.78730044e+02  3.88505442e+01 -1.20025965e+01  1.21106074e+01\n",
      "  4.90852042e+01  4.50753598e+01  2.99070680e+01  3.75864220e+01\n",
      "  9.76274690e+01  2.50836932e+02  2.23488940e+02  1.19593544e+02\n",
      "  4.06950686e+01 -7.80853412e+00 -4.48572337e+01 -8.44972491e+01\n",
      "  1.50743417e+01 -3.16770353e+00  8.74035944e+00 -3.51544206e+00\n",
      " -1.24139372e+00  1.63980441e+00  3.18344623e+00  3.50487695e+00\n",
      "  6.81555993e+00  8.54607685e-01  3.27248246e+00  1.56013096e+01\n",
      "  6.11664937e+00 -4.53340106e+01]\n"
     ]
    },
    {
     "name": "stderr",
     "output_type": "stream",
     "text": [
      "C:\\Users\\Martin\\Anaconda3\\lib\\site-packages\\dask\\blockwise.py:590: FutureWarning: elementwise comparison failed; returning scalar instead, but in the future will perform elementwise comparison\n",
      "  contains = index in indices\n"
     ]
    },
    {
     "name": "stdout",
     "output_type": "stream",
     "text": [
      "Mean squared error (MSE): 14814.57\n"
     ]
    }
   ],
   "source": [
    "##  baseline predictions and score for count\n",
    "# train_dropped_target = x_train_count_arr.drop([\"casual\", \"registered\"], axis = 1)\n",
    "# test_dropped_target = x_test_count_arr.drop([\"casual\", \"registered\"], axis = 1)\n",
    "baseline_registered_count = score_lin(x_train_count_arr, x_test_count_arr, y_train_count_arr, y_test_count_arr)"
   ]
  },
  {
   "cell_type": "code",
   "execution_count": 74,
   "metadata": {},
   "outputs": [
    {
     "name": "stderr",
     "output_type": "stream",
     "text": [
      "C:\\Users\\Martin\\Anaconda3\\lib\\site-packages\\dask\\blockwise.py:590: FutureWarning: elementwise comparison failed; returning scalar instead, but in the future will perform elementwise comparison\n",
      "  contains = index in indices\n",
      "C:\\Users\\Martin\\Anaconda3\\lib\\site-packages\\dask\\blockwise.py:595: FutureWarning: elementwise comparison failed; returning scalar instead, but in the future will perform elementwise comparison\n",
      "  sub[blockwise_token(i)] = blockwise_token(indices.index(index))\n"
     ]
    },
    {
     "name": "stdout",
     "output_type": "stream",
     "text": [
      "Intercept: -44.743612844467634\n",
      "Coefficients: [ 3.65324335e+01  5.83099214e-03  4.09506581e+01  8.46803644e+01\n",
      " -5.52042952e+01 -1.18298549e+01 -1.41629636e+01  5.56213897e+00\n",
      " -2.34379178e-01  2.53669788e+01 -1.04739472e+01  1.43495793e+01\n",
      "  1.31171448e+00  3.77377721e+00  6.30218198e+00  3.84271827e+00\n",
      "  1.64515077e+01  1.08503312e+01 -4.89201674e+00  6.00568681e+00\n",
      "  1.80724429e+01 -7.86658830e+00 -2.02444591e+01 -1.91199493e+01\n",
      " -9.49405748e+01 -1.09363673e+02 -1.16434725e+02 -1.25250483e+02\n",
      " -1.27962050e+02 -1.13712780e+02 -5.99804051e+01  6.32074192e+01\n",
      "  1.87091775e+02  4.10688965e+01 -2.22798122e+01 -7.69162155e+00\n",
      "  2.33513589e+01  1.71206440e+01 -5.84744489e-03  8.53106244e+00\n",
      "  6.89993983e+01  2.19016569e+02  2.01780533e+02  1.07723541e+02\n",
      "  4.02080955e+01 -1.28020888e+00 -3.35645926e+01 -6.72584818e+01\n",
      "  1.52036979e+01 -3.28202987e+00 -2.74811988e+00 -1.09721290e+01\n",
      "  1.57074390e+00  7.56988058e+00  9.02710714e+00  9.50212751e+00\n",
      "  5.45329847e+00 -1.00020730e+01  1.41343728e+01  1.26160819e+01\n",
      "  6.41115406e+00 -3.73364745e+01]\n"
     ]
    },
    {
     "name": "stderr",
     "output_type": "stream",
     "text": [
      "C:\\Users\\Martin\\Anaconda3\\lib\\site-packages\\dask\\blockwise.py:590: FutureWarning: elementwise comparison failed; returning scalar instead, but in the future will perform elementwise comparison\n",
      "  contains = index in indices\n"
     ]
    },
    {
     "name": "stdout",
     "output_type": "stream",
     "text": [
      "Mean squared error (MSE): 11519.35\n"
     ]
    }
   ],
   "source": [
    "##  baseline predictions and score for registered\n",
    "#train_dropped_target = x_train_reg.drop([\"casual\", \"count\"], axis = 1)\n",
    "#test_dropped_target = x_test_reg.drop([\"casual\", \"count\"], axis = 1)\n",
    "baseline_registered_pred = score_lin(x_train_reg_arr, x_test_reg_arr, y_train_reg_arr, y_test_reg_arr)"
   ]
  },
  {
   "cell_type": "code",
   "execution_count": 75,
   "metadata": {},
   "outputs": [
    {
     "name": "stderr",
     "output_type": "stream",
     "text": [
      "C:\\Users\\Martin\\Anaconda3\\lib\\site-packages\\dask\\blockwise.py:590: FutureWarning: elementwise comparison failed; returning scalar instead, but in the future will perform elementwise comparison\n",
      "  contains = index in indices\n",
      "C:\\Users\\Martin\\Anaconda3\\lib\\site-packages\\dask\\blockwise.py:595: FutureWarning: elementwise comparison failed; returning scalar instead, but in the future will perform elementwise comparison\n",
      "  sub[blockwise_token(i)] = blockwise_token(indices.index(index))\n"
     ]
    },
    {
     "name": "stdout",
     "output_type": "stream",
     "text": [
      "Intercept: 0.7003294966976737\n",
      "Coefficients: [ 2.68204328e+00 -1.38034821e-03  7.67873912e+01  8.27411937e+00\n",
      " -2.74474861e+01 -1.82784540e+01 -1.11986120e+00  8.09247877e+00\n",
      "  3.89586310e-01  8.37598868e-01 -1.03917621e+01  1.42641331e+01\n",
      " -6.33708275e+00 -6.45776987e+00  4.68995497e+00  3.79204831e+00\n",
      "  5.63442167e+00 -1.15984132e+00 -1.25546851e+00  4.13981814e+00\n",
      "  1.32505512e+01  1.68926303e+01  1.17338343e+01  8.14277593e+00\n",
      " -1.69630982e+01 -1.99244694e+01 -2.10014789e+01 -2.32236670e+01\n",
      " -2.37300514e+01 -2.18352983e+01 -1.84773052e+01 -1.20297833e+01\n",
      " -3.55533918e+00  2.58740343e+00  1.50821633e+01  2.46061698e+01\n",
      "  3.05370939e+01  3.27574675e+01  3.47156243e+01  3.38580626e+01\n",
      "  3.34311575e+01  3.66237715e+01  2.65122157e+01  1.66745224e+01\n",
      "  5.29172039e+00 -1.72313300e+00 -6.48690446e+00 -1.24328853e+01\n",
      "  5.83861014e+00  6.07302668e+00  1.42262111e+01  1.01938807e+01\n",
      " -6.42755090e-02 -3.18396696e+00 -3.09746635e+00 -3.25115511e+00\n",
      "  4.10856420e+00  1.29278450e+01 -8.79902227e+00  5.35033327e+00\n",
      "  2.07158614e+00 -5.62694479e+00]\n"
     ]
    },
    {
     "name": "stderr",
     "output_type": "stream",
     "text": [
      "C:\\Users\\Martin\\Anaconda3\\lib\\site-packages\\dask\\blockwise.py:590: FutureWarning: elementwise comparison failed; returning scalar instead, but in the future will perform elementwise comparison\n",
      "  contains = index in indices\n"
     ]
    },
    {
     "name": "stdout",
     "output_type": "stream",
     "text": [
      "Mean squared error (MSE): 1075.61\n"
     ]
    }
   ],
   "source": [
    "##  baseline predictions and score for casual\n",
    "#train_dropped_target = x_train_casual.drop([\"registered\", \"count\"], axis = 1)\n",
    "#test_dropped_target = x_test_casual.drop([\"registered\", \"count\"], axis = 1)\n",
    "baseline_casual_pred = score_lin(x_train_casual_arr, x_test_casual_arr, y_train_casual_arr, y_test_casual_arr)"
   ]
  },
  {
   "cell_type": "code",
   "execution_count": null,
   "metadata": {},
   "outputs": [],
   "source": []
  }
 ],
 "metadata": {
  "kernelspec": {
   "display_name": "Python 3",
   "language": "python",
   "name": "python3"
  },
  "language_info": {
   "codemirror_mode": {
    "name": "ipython",
    "version": 3
   },
   "file_extension": ".py",
   "mimetype": "text/x-python",
   "name": "python",
   "nbconvert_exporter": "python",
   "pygments_lexer": "ipython3",
   "version": "3.6.7"
  },
  "toc": {
   "base_numbering": "1",
   "nav_menu": {},
   "number_sections": true,
   "sideBar": true,
   "skip_h1_title": true,
   "title_cell": "Table of Contents",
   "title_sidebar": "Contents",
   "toc_cell": false,
   "toc_position": {
    "height": "calc(100% - 180px)",
    "left": "10px",
    "top": "150px",
    "width": "362px"
   },
   "toc_section_display": true,
   "toc_window_display": true
  }
 },
 "nbformat": 4,
 "nbformat_minor": 2
}
