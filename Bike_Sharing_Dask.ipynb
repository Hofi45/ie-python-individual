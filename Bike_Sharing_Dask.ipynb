{
 "cells": [
  {
   "cell_type": "markdown",
   "metadata": {},
   "source": [
    "# Bike sharing in Washington\n",
    "<em>Individual Project Python<em>\n",
    "___"
   ]
  },
  {
   "cell_type": "markdown",
   "metadata": {},
   "source": [
    "                              Master in Business Analytics & Big data\n",
    "                                 Professor Juan Luis Cano Rodriguez\n",
    "                                           Martin Hofbauer\n",
    "                                              _________"
   ]
  },
  {
   "cell_type": "markdown",
   "metadata": {},
   "source": [
    "## Libraries"
   ]
  },
  {
   "cell_type": "code",
   "execution_count": 88,
   "metadata": {},
   "outputs": [
    {
     "name": "stderr",
     "output_type": "stream",
     "text": [
      "ERROR:root:__call__() missing 1 required positional argument: 'value'\n",
      "Traceback (most recent call last):\n",
      "  File \"C:\\Users\\Martin\\Anaconda3\\lib\\site-packages\\nb_black.py\", line 62, in __format\n",
      "    cell = _format_code(cell)\n",
      "  File \"C:\\Users\\Martin\\Anaconda3\\lib\\site-packages\\nb_black.py\", line 22, in _format_code\n",
      "    return format_str(src_contents=code, mode=FileMode())\n",
      "TypeError: __call__() missing 1 required positional argument: 'value'\n"
     ]
    }
   ],
   "source": [
    "from distributed import Client, progress\n",
    "import dask\n",
    "import dask.dataframe as dd\n",
    "import dask.array as da\n",
    "import numpy as np\n",
    "import dask_ml\n",
    "from dask_ml.preprocessing import Categorizer, DummyEncoder\n",
    "import pandas as pd\n",
    "from sklearn.pipeline import Pipeline, make_pipeline\n",
    "from dask_ml.preprocessing import StandardScaler\n",
    "from dask_ml.linear_model import LinearRegression\n",
    "from dask_ml.metrics import mean_squared_error\n",
    "from sklearn.metrics import r2_score\n",
    "from sklearn.metrics import explained_variance_score\n",
    "%load_ext nb_black"
   ]
  },
  {
   "cell_type": "code",
   "execution_count": 89,
   "metadata": {},
   "outputs": [
    {
     "name": "stderr",
     "output_type": "stream",
     "text": [
      "C:\\Users\\Martin\\Anaconda3\\lib\\site-packages\\distributed\\bokeh\\core.py:57: UserWarning: \n",
      "Failed to start diagnostics server on port 8787. [WinError 10048] Normalerweise darf jede Socketadresse (Protokoll, Netzwerkadresse oder Anschluss) nur jeweils einmal verwendet werden\n",
      "  warnings.warn('\\n' + msg)\n"
     ]
    },
    {
     "data": {
      "text/html": [
       "<table style=\"border: 2px solid white;\">\n",
       "<tr>\n",
       "<td style=\"vertical-align: top; border: 0px solid white\">\n",
       "<h3>Client</h3>\n",
       "<ul>\n",
       "  <li><b>Scheduler: </b>tcp://127.0.0.1:55436\n",
       "  <li><b>Dashboard: </b><a href='http://127.0.0.1:55439/status' target='_blank'>http://127.0.0.1:55439/status</a>\n",
       "</ul>\n",
       "</td>\n",
       "<td style=\"vertical-align: top; border: 0px solid white\">\n",
       "<h3>Cluster</h3>\n",
       "<ul>\n",
       "  <li><b>Workers: </b>4</li>\n",
       "  <li><b>Cores: </b>8</li>\n",
       "  <li><b>Memory: </b>17.10 GB</li>\n",
       "</ul>\n",
       "</td>\n",
       "</tr>\n",
       "</table>"
      ],
      "text/plain": [
       "<Client: scheduler='tcp://127.0.0.1:55436' processes=4 cores=8>"
      ]
     },
     "execution_count": 89,
     "metadata": {},
     "output_type": "execute_result"
    },
    {
     "name": "stderr",
     "output_type": "stream",
     "text": [
      "ERROR:root:__call__() missing 1 required positional argument: 'value'\n",
      "Traceback (most recent call last):\n",
      "  File \"C:\\Users\\Martin\\Anaconda3\\lib\\site-packages\\nb_black.py\", line 62, in __format\n",
      "    cell = _format_code(cell)\n",
      "  File \"C:\\Users\\Martin\\Anaconda3\\lib\\site-packages\\nb_black.py\", line 22, in _format_code\n",
      "    return format_str(src_contents=code, mode=FileMode())\n",
      "TypeError: __call__() missing 1 required positional argument: 'value'\n"
     ]
    }
   ],
   "source": [
    "client = Client()\n",
    "client"
   ]
  },
  {
   "cell_type": "markdown",
   "metadata": {},
   "source": [
    "## Data Loading"
   ]
  },
  {
   "cell_type": "code",
   "execution_count": 90,
   "metadata": {},
   "outputs": [
    {
     "name": "stderr",
     "output_type": "stream",
     "text": [
      "ERROR:root:__call__() missing 1 required positional argument: 'value'\n",
      "Traceback (most recent call last):\n",
      "  File \"C:\\Users\\Martin\\Anaconda3\\lib\\site-packages\\nb_black.py\", line 62, in __format\n",
      "    cell = _format_code(cell)\n",
      "  File \"C:\\Users\\Martin\\Anaconda3\\lib\\site-packages\\nb_black.py\", line 22, in _format_code\n",
      "    return format_str(src_contents=code, mode=FileMode())\n",
      "TypeError: __call__() missing 1 required positional argument: 'value'\n"
     ]
    }
   ],
   "source": [
    "hour_data = dd.read_csv(\n",
    "    \"https://gist.githubusercontent.com/geraldwal/b5a83f4c670abe0a662abce558e5d433/raw/bce4bbfc63355606e4503964e25798b5d2190b9b/hour%2520-%2520Python%2520Bike%2520Sharing\",\n",
    "    sep=\",\",\n",
    "    parse_dates=[\"dteday\"],\n",
    ")"
   ]
  },
  {
   "cell_type": "markdown",
   "metadata": {},
   "source": [
    "## Preparation for Baseline"
   ]
  },
  {
   "cell_type": "markdown",
   "metadata": {},
   "source": [
    "### Renaming the Colums"
   ]
  },
  {
   "cell_type": "code",
   "execution_count": 91,
   "metadata": {},
   "outputs": [
    {
     "data": {
      "text/html": [
       "<div><strong>Dask DataFrame Structure:</strong></div>\n",
       "<div>\n",
       "<style scoped>\n",
       "    .dataframe tbody tr th:only-of-type {\n",
       "        vertical-align: middle;\n",
       "    }\n",
       "\n",
       "    .dataframe tbody tr th {\n",
       "        vertical-align: top;\n",
       "    }\n",
       "\n",
       "    .dataframe thead th {\n",
       "        text-align: right;\n",
       "    }\n",
       "</style>\n",
       "<table border=\"1\" class=\"dataframe\">\n",
       "  <thead>\n",
       "    <tr style=\"text-align: right;\">\n",
       "      <th></th>\n",
       "      <th>instant</th>\n",
       "      <th>dteday</th>\n",
       "      <th>season</th>\n",
       "      <th>yr</th>\n",
       "      <th>mnth</th>\n",
       "      <th>hr</th>\n",
       "      <th>holiday</th>\n",
       "      <th>weekday</th>\n",
       "      <th>workingday</th>\n",
       "      <th>weathersit</th>\n",
       "      <th>temp</th>\n",
       "      <th>atemp</th>\n",
       "      <th>hum</th>\n",
       "      <th>windspeed</th>\n",
       "      <th>casual</th>\n",
       "      <th>registered</th>\n",
       "      <th>cnt</th>\n",
       "    </tr>\n",
       "    <tr>\n",
       "      <th>npartitions=1</th>\n",
       "      <th></th>\n",
       "      <th></th>\n",
       "      <th></th>\n",
       "      <th></th>\n",
       "      <th></th>\n",
       "      <th></th>\n",
       "      <th></th>\n",
       "      <th></th>\n",
       "      <th></th>\n",
       "      <th></th>\n",
       "      <th></th>\n",
       "      <th></th>\n",
       "      <th></th>\n",
       "      <th></th>\n",
       "      <th></th>\n",
       "      <th></th>\n",
       "      <th></th>\n",
       "    </tr>\n",
       "  </thead>\n",
       "  <tbody>\n",
       "    <tr>\n",
       "      <th></th>\n",
       "      <td>int64</td>\n",
       "      <td>datetime64[ns]</td>\n",
       "      <td>int64</td>\n",
       "      <td>int64</td>\n",
       "      <td>int64</td>\n",
       "      <td>int64</td>\n",
       "      <td>int64</td>\n",
       "      <td>int64</td>\n",
       "      <td>int64</td>\n",
       "      <td>int64</td>\n",
       "      <td>float64</td>\n",
       "      <td>float64</td>\n",
       "      <td>float64</td>\n",
       "      <td>float64</td>\n",
       "      <td>int64</td>\n",
       "      <td>int64</td>\n",
       "      <td>int64</td>\n",
       "    </tr>\n",
       "    <tr>\n",
       "      <th></th>\n",
       "      <td>...</td>\n",
       "      <td>...</td>\n",
       "      <td>...</td>\n",
       "      <td>...</td>\n",
       "      <td>...</td>\n",
       "      <td>...</td>\n",
       "      <td>...</td>\n",
       "      <td>...</td>\n",
       "      <td>...</td>\n",
       "      <td>...</td>\n",
       "      <td>...</td>\n",
       "      <td>...</td>\n",
       "      <td>...</td>\n",
       "      <td>...</td>\n",
       "      <td>...</td>\n",
       "      <td>...</td>\n",
       "      <td>...</td>\n",
       "    </tr>\n",
       "  </tbody>\n",
       "</table>\n",
       "</div>\n",
       "<div>Dask Name: from-delayed, 3 tasks</div>"
      ],
      "text/plain": [
       "Dask DataFrame Structure:\n",
       "              instant          dteday season     yr   mnth     hr holiday weekday workingday weathersit     temp    atemp      hum windspeed casual registered    cnt\n",
       "npartitions=1                                                                                                                                                        \n",
       "                int64  datetime64[ns]  int64  int64  int64  int64   int64   int64      int64      int64  float64  float64  float64   float64  int64      int64  int64\n",
       "                  ...             ...    ...    ...    ...    ...     ...     ...        ...        ...      ...      ...      ...       ...    ...        ...    ...\n",
       "Dask Name: from-delayed, 3 tasks"
      ]
     },
     "execution_count": 91,
     "metadata": {},
     "output_type": "execute_result"
    },
    {
     "name": "stderr",
     "output_type": "stream",
     "text": [
      "ERROR:root:__call__() missing 1 required positional argument: 'value'\n",
      "Traceback (most recent call last):\n",
      "  File \"C:\\Users\\Martin\\Anaconda3\\lib\\site-packages\\nb_black.py\", line 62, in __format\n",
      "    cell = _format_code(cell)\n",
      "  File \"C:\\Users\\Martin\\Anaconda3\\lib\\site-packages\\nb_black.py\", line 22, in _format_code\n",
      "    return format_str(src_contents=code, mode=FileMode())\n",
      "TypeError: __call__() missing 1 required positional argument: 'value'\n"
     ]
    }
   ],
   "source": [
    "hour_data"
   ]
  },
  {
   "cell_type": "code",
   "execution_count": 98,
   "metadata": {},
   "outputs": [
    {
     "name": "stderr",
     "output_type": "stream",
     "text": [
      "ERROR:root:__call__() missing 1 required positional argument: 'value'\n",
      "Traceback (most recent call last):\n",
      "  File \"C:\\Users\\Martin\\Anaconda3\\lib\\site-packages\\nb_black.py\", line 62, in __format\n",
      "    cell = _format_code(cell)\n",
      "  File \"C:\\Users\\Martin\\Anaconda3\\lib\\site-packages\\nb_black.py\", line 22, in _format_code\n",
      "    return format_str(src_contents=code, mode=FileMode())\n",
      "TypeError: __call__() missing 1 required positional argument: 'value'\n"
     ]
    }
   ],
   "source": [
    "hour_data = hour_data.rename(\n",
    "    columns={\n",
    "        \"weathersit\": \"weather\",\n",
    "        \"mnth\": \"month\",\n",
    "        \"hr\": \"hour\",\n",
    "        \"hum\": \"humidity\",\n",
    "        \"cnt\": \"count\",\n",
    "        \"yr\": \"year\",\n",
    "    }\n",
    ")"
   ]
  },
  {
   "cell_type": "code",
   "execution_count": 93,
   "metadata": {},
   "outputs": [
    {
     "name": "stderr",
     "output_type": "stream",
     "text": [
      "ERROR:root:__call__() missing 1 required positional argument: 'value'\n",
      "Traceback (most recent call last):\n",
      "  File \"C:\\Users\\Martin\\Anaconda3\\lib\\site-packages\\nb_black.py\", line 62, in __format\n",
      "    cell = _format_code(cell)\n",
      "  File \"C:\\Users\\Martin\\Anaconda3\\lib\\site-packages\\nb_black.py\", line 22, in _format_code\n",
      "    return format_str(src_contents=code, mode=FileMode())\n",
      "TypeError: __call__() missing 1 required positional argument: 'value'\n"
     ]
    }
   ],
   "source": [
    "# new_columns = [\n",
    "#     \"instant\",\n",
    "#     \"dteday\",\n",
    "#     \"season\",\n",
    "#     \"year\",\n",
    "#     \"month\",\n",
    "#     \"hour\",\n",
    "#     \"holiday\",\n",
    "#     \"weekday\",\n",
    "#     \"workingday\",\n",
    "#     \"weather\",\n",
    "#     \"temp\",\n",
    "#     \"atemp\",\n",
    "#     \"humidity\",\n",
    "#     \"windspeed\",\n",
    "#     \"casual\",\n",
    "#     \"registered\",\n",
    "#     \"count\",\n",
    "# ]\n",
    "# hour_data= hour_data.rename(columns=dict(zip(hour_data.columns, new_columns)))"
   ]
  },
  {
   "cell_type": "code",
   "execution_count": 94,
   "metadata": {},
   "outputs": [
    {
     "name": "stderr",
     "output_type": "stream",
     "text": [
      "ERROR:root:__call__() missing 1 required positional argument: 'value'\n",
      "Traceback (most recent call last):\n",
      "  File \"C:\\Users\\Martin\\Anaconda3\\lib\\site-packages\\nb_black.py\", line 62, in __format\n",
      "    cell = _format_code(cell)\n",
      "  File \"C:\\Users\\Martin\\Anaconda3\\lib\\site-packages\\nb_black.py\", line 22, in _format_code\n",
      "    return format_str(src_contents=code, mode=FileMode())\n",
      "TypeError: __call__() missing 1 required positional argument: 'value'\n"
     ]
    }
   ],
   "source": [
    "hour_data = hour_data.drop([\"dteday\"], axis=1)"
   ]
  },
  {
   "cell_type": "code",
   "execution_count": 95,
   "metadata": {},
   "outputs": [
    {
     "name": "stderr",
     "output_type": "stream",
     "text": [
      "ERROR:root:__call__() missing 1 required positional argument: 'value'\n",
      "Traceback (most recent call last):\n",
      "  File \"C:\\Users\\Martin\\Anaconda3\\lib\\site-packages\\nb_black.py\", line 62, in __format\n",
      "    cell = _format_code(cell)\n",
      "  File \"C:\\Users\\Martin\\Anaconda3\\lib\\site-packages\\nb_black.py\", line 22, in _format_code\n",
      "    return format_str(src_contents=code, mode=FileMode())\n",
      "TypeError: __call__() missing 1 required positional argument: 'value'\n"
     ]
    }
   ],
   "source": [
    "hour_data_cl = hour_data.copy()"
   ]
  },
  {
   "cell_type": "markdown",
   "metadata": {},
   "source": [
    "### Applying the Corrrect Datatypes, Normalizing and DummyEncoding"
   ]
  },
  {
   "cell_type": "code",
   "execution_count": 45,
   "metadata": {},
   "outputs": [],
   "source": [
    "ss = StandardScaler()\n",
    "norm = ss.fit_transform(\n",
    "    hour_data.drop(\n",
    "        [\n",
    "            \"season\",\n",
    "            \"year\",\n",
    "            \"month\",\n",
    "            \"hour\",\n",
    "            \"holiday\",\n",
    "            \"weekday\",\n",
    "            \"workingday\",\n",
    "            \"weather\",\n",
    "            \"casual\",\n",
    "            \"registered\",\n",
    "            \"count\",\n",
    "        ],\n",
    "        axis=1,\n",
    "    )\n",
    ")"
   ]
  },
  {
   "cell_type": "code",
   "execution_count": 46,
   "metadata": {},
   "outputs": [
    {
     "name": "stderr",
     "output_type": "stream",
     "text": [
      "C:\\Users\\Martin\\Anaconda3\\lib\\site-packages\\dask\\dataframe\\multi.py:590: UserWarning: Concatenating dataframes with unknown divisions.\n",
      "We're assuming that the indexes of each dataframes are \n",
      " aligned. This assumption is not generally safe.\n",
      "  warnings.warn(\"Concatenating dataframes with unknown divisions.\\n\"\n"
     ]
    },
    {
     "data": {
      "text/html": [
       "<div>\n",
       "<style scoped>\n",
       "    .dataframe tbody tr th:only-of-type {\n",
       "        vertical-align: middle;\n",
       "    }\n",
       "\n",
       "    .dataframe tbody tr th {\n",
       "        vertical-align: top;\n",
       "    }\n",
       "\n",
       "    .dataframe thead th {\n",
       "        text-align: right;\n",
       "    }\n",
       "</style>\n",
       "<table border=\"1\" class=\"dataframe\">\n",
       "  <thead>\n",
       "    <tr style=\"text-align: right;\">\n",
       "      <th></th>\n",
       "      <th>season</th>\n",
       "      <th>year</th>\n",
       "      <th>month</th>\n",
       "      <th>hour</th>\n",
       "      <th>holiday</th>\n",
       "      <th>weekday</th>\n",
       "      <th>workingday</th>\n",
       "      <th>weather</th>\n",
       "      <th>casual</th>\n",
       "      <th>registered</th>\n",
       "      <th>count</th>\n",
       "      <th>instant</th>\n",
       "      <th>temp</th>\n",
       "      <th>atemp</th>\n",
       "      <th>humidity</th>\n",
       "      <th>windspeed</th>\n",
       "    </tr>\n",
       "  </thead>\n",
       "  <tbody>\n",
       "    <tr>\n",
       "      <th>0</th>\n",
       "      <td>1</td>\n",
       "      <td>0</td>\n",
       "      <td>1</td>\n",
       "      <td>0</td>\n",
       "      <td>0</td>\n",
       "      <td>6</td>\n",
       "      <td>0</td>\n",
       "      <td>1</td>\n",
       "      <td>3</td>\n",
       "      <td>13</td>\n",
       "      <td>16</td>\n",
       "      <td>-1.731951</td>\n",
       "      <td>-1.334648</td>\n",
       "      <td>-1.093281</td>\n",
       "      <td>0.947372</td>\n",
       "      <td>-1.553889</td>\n",
       "    </tr>\n",
       "    <tr>\n",
       "      <th>1</th>\n",
       "      <td>1</td>\n",
       "      <td>0</td>\n",
       "      <td>1</td>\n",
       "      <td>1</td>\n",
       "      <td>0</td>\n",
       "      <td>6</td>\n",
       "      <td>0</td>\n",
       "      <td>1</td>\n",
       "      <td>8</td>\n",
       "      <td>32</td>\n",
       "      <td>40</td>\n",
       "      <td>-1.731752</td>\n",
       "      <td>-1.438516</td>\n",
       "      <td>-1.181732</td>\n",
       "      <td>0.895539</td>\n",
       "      <td>-1.553889</td>\n",
       "    </tr>\n",
       "    <tr>\n",
       "      <th>2</th>\n",
       "      <td>1</td>\n",
       "      <td>0</td>\n",
       "      <td>1</td>\n",
       "      <td>2</td>\n",
       "      <td>0</td>\n",
       "      <td>6</td>\n",
       "      <td>0</td>\n",
       "      <td>1</td>\n",
       "      <td>5</td>\n",
       "      <td>27</td>\n",
       "      <td>32</td>\n",
       "      <td>-1.731552</td>\n",
       "      <td>-1.438516</td>\n",
       "      <td>-1.181732</td>\n",
       "      <td>0.895539</td>\n",
       "      <td>-1.553889</td>\n",
       "    </tr>\n",
       "    <tr>\n",
       "      <th>3</th>\n",
       "      <td>1</td>\n",
       "      <td>0</td>\n",
       "      <td>1</td>\n",
       "      <td>3</td>\n",
       "      <td>0</td>\n",
       "      <td>6</td>\n",
       "      <td>0</td>\n",
       "      <td>1</td>\n",
       "      <td>3</td>\n",
       "      <td>10</td>\n",
       "      <td>13</td>\n",
       "      <td>-1.731353</td>\n",
       "      <td>-1.334648</td>\n",
       "      <td>-1.093281</td>\n",
       "      <td>0.636370</td>\n",
       "      <td>-1.553889</td>\n",
       "    </tr>\n",
       "    <tr>\n",
       "      <th>4</th>\n",
       "      <td>1</td>\n",
       "      <td>0</td>\n",
       "      <td>1</td>\n",
       "      <td>4</td>\n",
       "      <td>0</td>\n",
       "      <td>6</td>\n",
       "      <td>0</td>\n",
       "      <td>1</td>\n",
       "      <td>0</td>\n",
       "      <td>1</td>\n",
       "      <td>1</td>\n",
       "      <td>-1.731154</td>\n",
       "      <td>-1.334648</td>\n",
       "      <td>-1.093281</td>\n",
       "      <td>0.636370</td>\n",
       "      <td>-1.553889</td>\n",
       "    </tr>\n",
       "  </tbody>\n",
       "</table>\n",
       "</div>"
      ],
      "text/plain": [
       "   season  year  month  hour  holiday  weekday  workingday  weather  casual  \\\n",
       "0       1     0      1     0        0        6           0        1       3   \n",
       "1       1     0      1     1        0        6           0        1       8   \n",
       "2       1     0      1     2        0        6           0        1       5   \n",
       "3       1     0      1     3        0        6           0        1       3   \n",
       "4       1     0      1     4        0        6           0        1       0   \n",
       "\n",
       "   registered  count   instant      temp     atemp  humidity  windspeed  \n",
       "0          13     16 -1.731951 -1.334648 -1.093281  0.947372  -1.553889  \n",
       "1          32     40 -1.731752 -1.438516 -1.181732  0.895539  -1.553889  \n",
       "2          27     32 -1.731552 -1.438516 -1.181732  0.895539  -1.553889  \n",
       "3          10     13 -1.731353 -1.334648 -1.093281  0.636370  -1.553889  \n",
       "4           1      1 -1.731154 -1.334648 -1.093281  0.636370  -1.553889  "
      ]
     },
     "execution_count": 46,
     "metadata": {},
     "output_type": "execute_result"
    }
   ],
   "source": [
    "cat = hour_data.loc[\n",
    "    :,\n",
    "    [\n",
    "        \"season\",\n",
    "        \"year\",\n",
    "        \"month\",\n",
    "        \"hour\",\n",
    "        \"holiday\",\n",
    "        \"weekday\",\n",
    "        \"workingday\",\n",
    "        \"weather\",\n",
    "        \"casual\",\n",
    "        \"registered\",\n",
    "        \"count\",\n",
    "    ],\n",
    "]\n",
    "hour_data = dd.concat([cat, norm], axis=1)\n",
    "hour_data.head()"
   ]
  },
  {
   "cell_type": "code",
   "execution_count": 47,
   "metadata": {},
   "outputs": [],
   "source": [
    "categs = [\n",
    "    \"season\",\n",
    "    \"year\",\n",
    "    \"month\",\n",
    "    \"hour\",\n",
    "    \"holiday\",\n",
    "    \"weekday\",\n",
    "    \"workingday\",\n",
    "    \"weather\",\n",
    "]"
   ]
  },
  {
   "cell_type": "code",
   "execution_count": 48,
   "metadata": {},
   "outputs": [],
   "source": [
    "pipeline = make_pipeline(Categorizer(columns=categs), DummyEncoder(columns=categs))\n",
    "hour_data_cl_hot_encoded = pipeline.fit_transform(hour_data)"
   ]
  },
  {
   "cell_type": "markdown",
   "metadata": {},
   "source": [
    "### Splitting the Dataset"
   ]
  },
  {
   "cell_type": "markdown",
   "metadata": {},
   "source": [
    "The intital Split function needed to be adapted a bit, including a .loc after the X and y. Furthermore, the trainsize needed to be reduced by 1 in order not to have rows included in both train and test."
   ]
  },
  {
   "cell_type": "code",
   "execution_count": 49,
   "metadata": {},
   "outputs": [],
   "source": [
    "def split_data(dataset, Target):\n",
    "    X = dataset.loc[:, dataset.columns != Target]\n",
    "    y = dataset.loc[:, Target]\n",
    "    train_size = int(len(dataset) * 0.875)\n",
    "    X_train, X_test, y_train, y_test = (\n",
    "        X.loc[0 : train_size - 1],\n",
    "        X.loc[train_size : len(dataset)],\n",
    "        y.loc[0 : train_size - 1],\n",
    "        y.loc[train_size : len(dataset)],\n",
    "    )\n",
    "    return X_train, X_test, y_train, y_test"
   ]
  },
  {
   "cell_type": "code",
   "execution_count": 50,
   "metadata": {
    "scrolled": false
   },
   "outputs": [],
   "source": [
    "x_train_reg, x_test_reg, y_train_reg, y_test_reg = split_data(\n",
    "    hour_data_cl_hot_encoded, \"registered\"\n",
    ")\n",
    "x_train_casual, x_test_casual, y_train_casual, y_test_casual = split_data(\n",
    "    hour_data_cl_hot_encoded, \"casual\"\n",
    ")\n",
    "x_train_count, x_test_count, y_train_count, y_test_count = split_data(\n",
    "    hour_data_cl_hot_encoded, \"count\"\n",
    ")"
   ]
  },
  {
   "cell_type": "code",
   "execution_count": 51,
   "metadata": {},
   "outputs": [],
   "source": [
    "x_train_reg_drop, x_test_reg_drop = (\n",
    "    x_train_reg.drop([\"casual\", \"count\"], axis=1),\n",
    "    x_test_reg.drop([\"casual\", \"count\"], axis=1),\n",
    ")"
   ]
  },
  {
   "cell_type": "code",
   "execution_count": 52,
   "metadata": {},
   "outputs": [],
   "source": [
    "x_train_reg_arr, x_test_reg_arr, y_train_reg_arr, y_test_reg_arr = (\n",
    "    x_train_reg_drop.values,\n",
    "    x_test_reg_drop.values,\n",
    "    y_train_reg.values,\n",
    "    y_test_reg.values,\n",
    ")"
   ]
  },
  {
   "cell_type": "code",
   "execution_count": 53,
   "metadata": {},
   "outputs": [],
   "source": [
    "x_train_casual_drop, x_test_casual_drop = (\n",
    "    x_train_casual.drop([\"registered\", \"count\"], axis=1),\n",
    "    x_test_casual.drop([\"registered\", \"count\"], axis=1),\n",
    ")"
   ]
  },
  {
   "cell_type": "code",
   "execution_count": 54,
   "metadata": {},
   "outputs": [],
   "source": [
    "x_train_casual_arr, x_test_casual_arr, y_train_casual_arr, y_test_casual_arr = (\n",
    "    x_train_casual_drop.values,\n",
    "    x_test_casual_drop.values,\n",
    "    y_train_casual.values,\n",
    "    y_test_casual.values,\n",
    ")"
   ]
  },
  {
   "cell_type": "code",
   "execution_count": 55,
   "metadata": {},
   "outputs": [],
   "source": [
    "x_train_count_drop, x_test_count_drop = (\n",
    "    x_train_count.drop([\"casual\", \"registered\"], axis=1),\n",
    "    x_test_count.drop([\"casual\", \"registered\"], axis=1),\n",
    ")"
   ]
  },
  {
   "cell_type": "code",
   "execution_count": 56,
   "metadata": {},
   "outputs": [],
   "source": [
    "x_train_count_arr, x_test_count_arr, y_train_count_arr, y_test_count_arr = (\n",
    "    x_train_count_drop.values,\n",
    "    x_test_count_drop.values,\n",
    "    y_train_count.values,\n",
    "    y_test_count.values,\n",
    ")"
   ]
  },
  {
   "cell_type": "markdown",
   "metadata": {},
   "source": [
    "## Baseline Predictions"
   ]
  },
  {
   "cell_type": "markdown",
   "metadata": {},
   "source": [
    "### Linear Model Function"
   ]
  },
  {
   "cell_type": "code",
   "execution_count": 61,
   "metadata": {},
   "outputs": [],
   "source": [
    "def score_lin(X_train, X_test, y_train, y_test):\n",
    "    lm = LinearRegression()\n",
    "    lm.fit(X_train, y_train)\n",
    "    y_pred = lm.predict(X_test)\n",
    "    print(\"Intercept:\", lm.intercept_)\n",
    "    print(\"Coefficients:\", lm.coef_)\n",
    "    print(\"Mean squared error (MSE): {:.2f}\".format(mean_squared_error(y_test, y_pred)))\n",
    "    print(\n",
    "        \"Variance score (R2): {:.2f}\".format(\n",
    "            r2_score(y_test.compute(), y_pred.compute())\n",
    "        )\n",
    "    )\n",
    "    return y_pred"
   ]
  },
  {
   "cell_type": "markdown",
   "metadata": {},
   "source": [
    "### Predicting Count, Casual and Registered Seperately"
   ]
  },
  {
   "cell_type": "code",
   "execution_count": 63,
   "metadata": {},
   "outputs": [
    {
     "name": "stderr",
     "output_type": "stream",
     "text": [
      "C:\\Users\\Martin\\Anaconda3\\lib\\site-packages\\dask\\blockwise.py:590: FutureWarning: elementwise comparison failed; returning scalar instead, but in the future will perform elementwise comparison\n",
      "  contains = index in indices\n",
      "C:\\Users\\Martin\\Anaconda3\\lib\\site-packages\\dask\\blockwise.py:595: FutureWarning: elementwise comparison failed; returning scalar instead, but in the future will perform elementwise comparison\n",
      "  sub[blockwise_token(i)] = blockwise_token(indices.index(index))\n"
     ]
    },
    {
     "name": "stdout",
     "output_type": "stream",
     "text": [
      "Intercept: -44.74361284450108\n",
      "Coefficients: [ 1.10969963e+02  2.92534179e+01  7.88507302e+00  1.45519202e+01\n",
      " -1.06502491e+01 -1.44722552e+00 -1.41629636e+01  5.56213897e+00\n",
      " -2.34379178e-01  2.53669788e+01 -1.04739472e+01  1.43495793e+01\n",
      "  1.31171448e+00  3.77377722e+00  6.30218198e+00  3.84271827e+00\n",
      "  1.64515077e+01  1.08503312e+01 -4.89201674e+00  6.00568681e+00\n",
      "  1.80724429e+01 -7.86658830e+00 -2.02444591e+01 -1.91199493e+01\n",
      " -9.49405748e+01 -1.09363673e+02 -1.16434725e+02 -1.25250483e+02\n",
      " -1.27962050e+02 -1.13712780e+02 -5.99804051e+01  6.32074192e+01\n",
      "  1.87091775e+02  4.10688965e+01 -2.22798122e+01 -7.69162155e+00\n",
      "  2.33513589e+01  1.71206440e+01 -5.84744488e-03  8.53106244e+00\n",
      "  6.89993983e+01  2.19016569e+02  2.01780533e+02  1.07723541e+02\n",
      "  4.02080955e+01 -1.28020888e+00 -3.35645926e+01 -6.72584818e+01\n",
      "  1.52036979e+01 -3.28202987e+00 -2.74811988e+00 -1.09721290e+01\n",
      "  1.57074390e+00  7.56988058e+00  9.02710714e+00  9.50212751e+00\n",
      "  5.45329847e+00 -1.00020730e+01  1.41343728e+01  1.26160819e+01\n",
      "  6.41115406e+00 -3.73364745e+01]\n"
     ]
    },
    {
     "name": "stderr",
     "output_type": "stream",
     "text": [
      "C:\\Users\\Martin\\Anaconda3\\lib\\site-packages\\dask\\blockwise.py:590: FutureWarning: elementwise comparison failed; returning scalar instead, but in the future will perform elementwise comparison\n",
      "  contains = index in indices\n"
     ]
    },
    {
     "name": "stdout",
     "output_type": "stream",
     "text": [
      "Mean squared error (MSE): 11519.35\n"
     ]
    },
    {
     "name": "stderr",
     "output_type": "stream",
     "text": [
      "C:\\Users\\Martin\\Anaconda3\\lib\\site-packages\\dask\\blockwise.py:595: FutureWarning: elementwise comparison failed; returning scalar instead, but in the future will perform elementwise comparison\n",
      "  sub[blockwise_token(i)] = blockwise_token(indices.index(index))\n"
     ]
    },
    {
     "name": "stdout",
     "output_type": "stream",
     "text": [
      "Variance score (R2): 0.63\n"
     ]
    }
   ],
   "source": [
    "##  baseline predictions and score for registered\n",
    "# train_dropped_target = x_train_reg.drop([\"casual\", \"count\"], axis = 1)\n",
    "# test_dropped_target = x_test_reg.drop([\"casual\", \"count\"], axis = 1)\n",
    "baseline_registered_pred = score_lin(\n",
    "    x_train_reg_arr, x_test_reg_arr, y_train_reg_arr, y_test_reg_arr\n",
    ")"
   ]
  },
  {
   "cell_type": "code",
   "execution_count": 64,
   "metadata": {
    "scrolled": true
   },
   "outputs": [
    {
     "name": "stderr",
     "output_type": "stream",
     "text": [
      "C:\\Users\\Martin\\Anaconda3\\lib\\site-packages\\dask\\blockwise.py:590: FutureWarning: elementwise comparison failed; returning scalar instead, but in the future will perform elementwise comparison\n",
      "  contains = index in indices\n",
      "C:\\Users\\Martin\\Anaconda3\\lib\\site-packages\\dask\\blockwise.py:595: FutureWarning: elementwise comparison failed; returning scalar instead, but in the future will perform elementwise comparison\n",
      "  sub[blockwise_token(i)] = blockwise_token(indices.index(index))\n"
     ]
    },
    {
     "name": "stdout",
     "output_type": "stream",
     "text": [
      "Intercept: 0.7003294967016319\n",
      "Coefficients: [ 12.09524023  -6.92504845  14.78545681   1.42186829  -5.29528659\n",
      "  -2.23612591  -1.1198612    8.09247877   0.38958631   0.83759887\n",
      " -10.39176206  14.26413313  -6.33708275  -6.45776987   4.68995497\n",
      "   3.79204831   5.63442167  -1.15984132  -1.25546851   4.13981814\n",
      "  13.25055119  16.8926303   11.7338343    8.14277593 -16.96309822\n",
      " -19.9244694  -21.00147895 -23.22366705 -23.73005142 -21.83529832\n",
      " -18.47730516 -12.02978332  -3.55533918   2.58740343  15.08216326\n",
      "  24.60616985  30.53709392  32.75746749  34.71562433  33.85806263\n",
      "  33.43115754  36.62377151  26.51221575  16.67452245   5.29172039\n",
      "  -1.723133    -6.48690446 -12.43288534   5.83861014   6.07302668\n",
      "  14.22621113  10.19388071  -0.06427551  -3.18396696  -3.09746635\n",
      "  -3.25115511   4.1085642   12.92784504  -8.79902227   5.35033327\n",
      "   2.07158614  -5.62694479]\n"
     ]
    },
    {
     "name": "stderr",
     "output_type": "stream",
     "text": [
      "C:\\Users\\Martin\\Anaconda3\\lib\\site-packages\\dask\\blockwise.py:590: FutureWarning: elementwise comparison failed; returning scalar instead, but in the future will perform elementwise comparison\n",
      "  contains = index in indices\n"
     ]
    },
    {
     "name": "stdout",
     "output_type": "stream",
     "text": [
      "Mean squared error (MSE): 1075.61\n"
     ]
    },
    {
     "name": "stderr",
     "output_type": "stream",
     "text": [
      "C:\\Users\\Martin\\Anaconda3\\lib\\site-packages\\dask\\blockwise.py:595: FutureWarning: elementwise comparison failed; returning scalar instead, but in the future will perform elementwise comparison\n",
      "  sub[blockwise_token(i)] = blockwise_token(indices.index(index))\n"
     ]
    },
    {
     "name": "stdout",
     "output_type": "stream",
     "text": [
      "Variance score (R2): 0.54\n"
     ]
    }
   ],
   "source": [
    "##  baseline predictions and score for casual\n",
    "# train_dropped_target = x_train_casual.drop([\"registered\", \"count\"], axis = 1)\n",
    "# test_dropped_target = x_test_casual.drop([\"registered\", \"count\"], axis = 1)\n",
    "baseline_casual_pred = score_lin(\n",
    "    x_train_casual_arr, x_test_casual_arr, y_train_casual_arr, y_test_casual_arr\n",
    ")"
   ]
  },
  {
   "cell_type": "code",
   "execution_count": 62,
   "metadata": {
    "scrolled": true
   },
   "outputs": [
    {
     "name": "stderr",
     "output_type": "stream",
     "text": [
      "C:\\Users\\Martin\\Anaconda3\\lib\\site-packages\\dask\\blockwise.py:590: FutureWarning: elementwise comparison failed; returning scalar instead, but in the future will perform elementwise comparison\n",
      "  contains = index in indices\n",
      "C:\\Users\\Martin\\Anaconda3\\lib\\site-packages\\dask\\blockwise.py:595: FutureWarning: elementwise comparison failed; returning scalar instead, but in the future will perform elementwise comparison\n",
      "  sub[blockwise_token(i)] = blockwise_token(indices.index(index))\n"
     ]
    },
    {
     "name": "stdout",
     "output_type": "stream",
     "text": [
      "Intercept: -46.42112739970177\n",
      "Coefficients: [ 148.66141376   22.60485296   22.67706131   15.96465478  -15.94294589\n",
      "   -3.68236923  -17.52717982   11.43352745   -2.06408918   23.97717062\n",
      "  -22.56348451   26.43423057   -8.27196826   -5.96714879    7.66168074\n",
      "    4.24776438   18.66064902    6.22753287   -9.64980102    6.60016121\n",
      "   27.73752731    5.4050132   -12.17358001  -14.67380203 -116.70899821\n",
      " -134.09366864 -142.24206468 -153.28042062 -156.49856593 -140.35480875\n",
      "  -83.26472838   46.37095242  178.73004417   38.85054416  -12.00259646\n",
      "   12.11060736   49.08520415   45.07535983   29.90706797   37.58642202\n",
      "   97.62746904  250.83693165  223.4889404   119.59354425   40.69506859\n",
      "   -7.80853412  -44.85723372  -84.49724908   15.07434172   -3.16770352\n",
      "    8.74035944   -3.51544206   -1.24139371    1.63980441    3.18344623\n",
      "    3.50487695    6.81555993    0.85460769    3.27248246   15.60130956\n",
      "    6.11664937  -45.33401064]\n"
     ]
    },
    {
     "name": "stderr",
     "output_type": "stream",
     "text": [
      "C:\\Users\\Martin\\Anaconda3\\lib\\site-packages\\dask\\blockwise.py:590: FutureWarning: elementwise comparison failed; returning scalar instead, but in the future will perform elementwise comparison\n",
      "  contains = index in indices\n"
     ]
    },
    {
     "name": "stdout",
     "output_type": "stream",
     "text": [
      "Mean squared error (MSE): 14814.57\n"
     ]
    },
    {
     "name": "stderr",
     "output_type": "stream",
     "text": [
      "C:\\Users\\Martin\\Anaconda3\\lib\\site-packages\\dask\\blockwise.py:595: FutureWarning: elementwise comparison failed; returning scalar instead, but in the future will perform elementwise comparison\n",
      "  sub[blockwise_token(i)] = blockwise_token(indices.index(index))\n"
     ]
    },
    {
     "name": "stdout",
     "output_type": "stream",
     "text": [
      "Variance score (R2): 0.63\n"
     ]
    }
   ],
   "source": [
    "##  baseline predictions and score for count\n",
    "# train_dropped_target = x_train_count_arr.drop([\"casual\", \"registered\"], axis = 1)\n",
    "# test_dropped_target = x_test_count_arr.drop([\"casual\", \"registered\"], axis = 1)\n",
    "baseline_registered_count = score_lin(\n",
    "    x_train_count_arr, x_test_count_arr, y_train_count_arr, y_test_count_arr\n",
    ")"
   ]
  },
  {
   "cell_type": "markdown",
   "metadata": {},
   "source": [
    "### Summing Casual and Registered Predictions"
   ]
  },
  {
   "cell_type": "code",
   "execution_count": 65,
   "metadata": {},
   "outputs": [],
   "source": [
    "pred_summed = baseline_registered_pred + baseline_casual_pred"
   ]
  },
  {
   "cell_type": "code",
   "execution_count": 66,
   "metadata": {},
   "outputs": [],
   "source": [
    "def r2score(x, y):\n",
    "    s = explained_variance_score(x, y)\n",
    "    return s"
   ]
  },
  {
   "cell_type": "code",
   "execution_count": 70,
   "metadata": {},
   "outputs": [
    {
     "data": {
      "text/plain": [
       "0.6377927222843567"
      ]
     },
     "execution_count": 70,
     "metadata": {},
     "output_type": "execute_result"
    }
   ],
   "source": [
    "r2score(x_test_casual[\"count\"].compute(), pred_summed.compute())"
   ]
  },
  {
   "cell_type": "markdown",
   "metadata": {},
   "source": [
    "## Feature Engineering"
   ]
  },
  {
   "cell_type": "markdown",
   "metadata": {},
   "source": [
    "### Quantile Bins"
   ]
  },
  {
   "cell_type": "code",
   "execution_count": 84,
   "metadata": {},
   "outputs": [
    {
     "name": "stderr",
     "output_type": "stream",
     "text": [
      "C:\\Users\\Martin\\Anaconda3\\lib\\site-packages\\dask\\blockwise.py:590: FutureWarning: elementwise comparison failed; returning scalar instead, but in the future will perform elementwise comparison\n",
      "  contains = index in indices\n"
     ]
    },
    {
     "ename": "TypeError",
     "evalue": "Column assignment doesn't support type Categorical",
     "output_type": "error",
     "traceback": [
      "\u001b[1;31m---------------------------------------------------------------------------\u001b[0m",
      "\u001b[1;31mTypeError\u001b[0m                                 Traceback (most recent call last)",
      "\u001b[1;32m<ipython-input-84-1fdf3e187b56>\u001b[0m in \u001b[0;36m<module>\u001b[1;34m\u001b[0m\n\u001b[0;32m      3\u001b[0m \u001b[0mquantiles\u001b[0m\u001b[1;33m\u001b[0m\u001b[1;33m\u001b[0m\u001b[0m\n\u001b[0;32m      4\u001b[0m \u001b[0mquantile_labels\u001b[0m \u001b[1;33m=\u001b[0m \u001b[1;33m[\u001b[0m\u001b[1;34m\"0-25Q\"\u001b[0m\u001b[1;33m,\u001b[0m \u001b[1;34m\"25-50Q\"\u001b[0m\u001b[1;33m,\u001b[0m \u001b[1;34m\"50-75Q\"\u001b[0m\u001b[1;33m,\u001b[0m \u001b[1;34m\"75-100Q\"\u001b[0m\u001b[1;33m]\u001b[0m\u001b[1;33m\u001b[0m\u001b[1;33m\u001b[0m\u001b[0m\n\u001b[1;32m----> 5\u001b[1;33m \u001b[0mhour_data_cl\u001b[0m\u001b[1;33m[\u001b[0m\u001b[1;34m\"Hum_Quantile\"\u001b[0m\u001b[1;33m]\u001b[0m \u001b[1;33m=\u001b[0m \u001b[0mpd\u001b[0m\u001b[1;33m.\u001b[0m\u001b[0mqcut\u001b[0m\u001b[1;33m(\u001b[0m\u001b[0mhour_data_cl\u001b[0m\u001b[1;33m[\u001b[0m\u001b[1;34m\"humidity\"\u001b[0m\u001b[1;33m]\u001b[0m\u001b[1;33m,\u001b[0m \u001b[0mq\u001b[0m\u001b[1;33m=\u001b[0m\u001b[0mquantile_list\u001b[0m\u001b[1;33m)\u001b[0m\u001b[1;33m\u001b[0m\u001b[1;33m\u001b[0m\u001b[0m\n\u001b[0m\u001b[0;32m      6\u001b[0m \u001b[1;31m# hour_data_cl[\"Hum_Quantile_label\"] = pd.qcut(\u001b[0m\u001b[1;33m\u001b[0m\u001b[1;33m\u001b[0m\u001b[1;33m\u001b[0m\u001b[0m\n\u001b[0;32m      7\u001b[0m \u001b[1;31m#     hour_data_cl[\"humidity\"], q=quantile_list, labels=quantile_labels\u001b[0m\u001b[1;33m\u001b[0m\u001b[1;33m\u001b[0m\u001b[1;33m\u001b[0m\u001b[0m\n",
      "\u001b[1;32m~\\Anaconda3\\lib\\site-packages\\dask\\dataframe\\core.py\u001b[0m in \u001b[0;36m__setitem__\u001b[1;34m(self, key, value)\u001b[0m\n\u001b[0;32m   2530\u001b[0m             \u001b[0mdf\u001b[0m \u001b[1;33m=\u001b[0m \u001b[0mself\u001b[0m\u001b[1;33m.\u001b[0m\u001b[0massign\u001b[0m\u001b[1;33m(\u001b[0m\u001b[1;33m**\u001b[0m\u001b[1;33m{\u001b[0m\u001b[0mk\u001b[0m\u001b[1;33m:\u001b[0m \u001b[0mvalue\u001b[0m \u001b[1;32mfor\u001b[0m \u001b[0mk\u001b[0m \u001b[1;32min\u001b[0m \u001b[0mkey\u001b[0m\u001b[1;33m}\u001b[0m\u001b[1;33m)\u001b[0m\u001b[1;33m\u001b[0m\u001b[1;33m\u001b[0m\u001b[0m\n\u001b[0;32m   2531\u001b[0m         \u001b[1;32melse\u001b[0m\u001b[1;33m:\u001b[0m\u001b[1;33m\u001b[0m\u001b[1;33m\u001b[0m\u001b[0m\n\u001b[1;32m-> 2532\u001b[1;33m             \u001b[0mdf\u001b[0m \u001b[1;33m=\u001b[0m \u001b[0mself\u001b[0m\u001b[1;33m.\u001b[0m\u001b[0massign\u001b[0m\u001b[1;33m(\u001b[0m\u001b[1;33m**\u001b[0m\u001b[1;33m{\u001b[0m\u001b[0mkey\u001b[0m\u001b[1;33m:\u001b[0m \u001b[0mvalue\u001b[0m\u001b[1;33m}\u001b[0m\u001b[1;33m)\u001b[0m\u001b[1;33m\u001b[0m\u001b[1;33m\u001b[0m\u001b[0m\n\u001b[0m\u001b[0;32m   2533\u001b[0m \u001b[1;33m\u001b[0m\u001b[0m\n\u001b[0;32m   2534\u001b[0m         \u001b[0mself\u001b[0m\u001b[1;33m.\u001b[0m\u001b[0mdask\u001b[0m \u001b[1;33m=\u001b[0m \u001b[0mdf\u001b[0m\u001b[1;33m.\u001b[0m\u001b[0mdask\u001b[0m\u001b[1;33m\u001b[0m\u001b[1;33m\u001b[0m\u001b[0m\n",
      "\u001b[1;32m~\\Anaconda3\\lib\\site-packages\\dask\\dataframe\\core.py\u001b[0m in \u001b[0;36massign\u001b[1;34m(self, **kwargs)\u001b[0m\n\u001b[0;32m   2725\u001b[0m                     callable(v) or pd.api.types.is_scalar(v)):\n\u001b[0;32m   2726\u001b[0m                 raise TypeError(\"Column assignment doesn't support type \"\n\u001b[1;32m-> 2727\u001b[1;33m                                 \"{0}\".format(type(v).__name__))\n\u001b[0m\u001b[0;32m   2728\u001b[0m             \u001b[1;32mif\u001b[0m \u001b[0mcallable\u001b[0m\u001b[1;33m(\u001b[0m\u001b[0mv\u001b[0m\u001b[1;33m)\u001b[0m\u001b[1;33m:\u001b[0m\u001b[1;33m\u001b[0m\u001b[1;33m\u001b[0m\u001b[0m\n\u001b[0;32m   2729\u001b[0m                 \u001b[0mkwargs\u001b[0m\u001b[1;33m[\u001b[0m\u001b[0mk\u001b[0m\u001b[1;33m]\u001b[0m \u001b[1;33m=\u001b[0m \u001b[0mv\u001b[0m\u001b[1;33m(\u001b[0m\u001b[0mself\u001b[0m\u001b[1;33m)\u001b[0m\u001b[1;33m\u001b[0m\u001b[1;33m\u001b[0m\u001b[0m\n",
      "\u001b[1;31mTypeError\u001b[0m: Column assignment doesn't support type Categorical"
     ]
    }
   ],
   "source": [
    "quantile_list = [0, 0.25, 0.5, 0.75, 1.0]\n",
    "quantiles = hour_data_cl[\"humidity\"].quantile(quantile_list)\n",
    "quantiles\n",
    "quantile_labels = [\"0-25Q\", \"25-50Q\", \"50-75Q\", \"75-100Q\"]\n",
    "hour_data_cl[\"Hum_Quantile\"] = pd.qcut(hour_data_cl[\"humidity\"], q=quantile_list)\n",
    "# hour_data_cl[\"Hum_Quantile_label\"] = pd.qcut(\n",
    "#     hour_data_cl[\"humidity\"], q=quantile_list, labels=quantile_labels\n",
    "# )\n",
    "# hour_data_cl.drop([\"Hum_Quantile\"], axis=1, inplace=True)"
   ]
  },
  {
   "cell_type": "code",
   "execution_count": 85,
   "metadata": {},
   "outputs": [
    {
     "data": {
      "text/html": [
       "<div><strong>Dask DataFrame Structure:</strong></div>\n",
       "<div>\n",
       "<style scoped>\n",
       "    .dataframe tbody tr th:only-of-type {\n",
       "        vertical-align: middle;\n",
       "    }\n",
       "\n",
       "    .dataframe tbody tr th {\n",
       "        vertical-align: top;\n",
       "    }\n",
       "\n",
       "    .dataframe thead th {\n",
       "        text-align: right;\n",
       "    }\n",
       "</style>\n",
       "<table border=\"1\" class=\"dataframe\">\n",
       "  <thead>\n",
       "    <tr style=\"text-align: right;\">\n",
       "      <th></th>\n",
       "      <th>season</th>\n",
       "      <th>year</th>\n",
       "      <th>month</th>\n",
       "      <th>hour</th>\n",
       "      <th>holiday</th>\n",
       "      <th>weekday</th>\n",
       "      <th>workingday</th>\n",
       "      <th>weather</th>\n",
       "      <th>casual</th>\n",
       "      <th>registered</th>\n",
       "      <th>count</th>\n",
       "      <th>instant</th>\n",
       "      <th>temp</th>\n",
       "      <th>atemp</th>\n",
       "      <th>humidity</th>\n",
       "      <th>windspeed</th>\n",
       "    </tr>\n",
       "    <tr>\n",
       "      <th>npartitions=1</th>\n",
       "      <th></th>\n",
       "      <th></th>\n",
       "      <th></th>\n",
       "      <th></th>\n",
       "      <th></th>\n",
       "      <th></th>\n",
       "      <th></th>\n",
       "      <th></th>\n",
       "      <th></th>\n",
       "      <th></th>\n",
       "      <th></th>\n",
       "      <th></th>\n",
       "      <th></th>\n",
       "      <th></th>\n",
       "      <th></th>\n",
       "      <th></th>\n",
       "    </tr>\n",
       "  </thead>\n",
       "  <tbody>\n",
       "    <tr>\n",
       "      <th></th>\n",
       "      <td>int64</td>\n",
       "      <td>int64</td>\n",
       "      <td>int64</td>\n",
       "      <td>int64</td>\n",
       "      <td>int64</td>\n",
       "      <td>int64</td>\n",
       "      <td>int64</td>\n",
       "      <td>int64</td>\n",
       "      <td>int64</td>\n",
       "      <td>int64</td>\n",
       "      <td>int64</td>\n",
       "      <td>float64</td>\n",
       "      <td>float64</td>\n",
       "      <td>float64</td>\n",
       "      <td>float64</td>\n",
       "      <td>float64</td>\n",
       "    </tr>\n",
       "    <tr>\n",
       "      <th></th>\n",
       "      <td>...</td>\n",
       "      <td>...</td>\n",
       "      <td>...</td>\n",
       "      <td>...</td>\n",
       "      <td>...</td>\n",
       "      <td>...</td>\n",
       "      <td>...</td>\n",
       "      <td>...</td>\n",
       "      <td>...</td>\n",
       "      <td>...</td>\n",
       "      <td>...</td>\n",
       "      <td>...</td>\n",
       "      <td>...</td>\n",
       "      <td>...</td>\n",
       "      <td>...</td>\n",
       "      <td>...</td>\n",
       "    </tr>\n",
       "  </tbody>\n",
       "</table>\n",
       "</div>\n",
       "<div>Dask Name: concat, 10 tasks</div>"
      ],
      "text/plain": [
       "Dask DataFrame Structure:\n",
       "              season   year  month   hour holiday weekday workingday weather casual registered  count  instant     temp    atemp humidity windspeed\n",
       "npartitions=1                                                                                                                                      \n",
       "               int64  int64  int64  int64   int64   int64      int64   int64  int64      int64  int64  float64  float64  float64  float64   float64\n",
       "                 ...    ...    ...    ...     ...     ...        ...     ...    ...        ...    ...      ...      ...      ...      ...       ...\n",
       "Dask Name: concat, 10 tasks"
      ]
     },
     "execution_count": 85,
     "metadata": {},
     "output_type": "execute_result"
    }
   ],
   "source": [
    "hour_data_cl"
   ]
  },
  {
   "cell_type": "code",
   "execution_count": null,
   "metadata": {},
   "outputs": [],
   "source": []
  }
 ],
 "metadata": {
  "kernelspec": {
   "display_name": "Python 3",
   "language": "python",
   "name": "python3"
  },
  "language_info": {
   "codemirror_mode": {
    "name": "ipython",
    "version": 3
   },
   "file_extension": ".py",
   "mimetype": "text/x-python",
   "name": "python",
   "nbconvert_exporter": "python",
   "pygments_lexer": "ipython3",
   "version": "3.6.7"
  },
  "toc": {
   "base_numbering": "1",
   "nav_menu": {},
   "number_sections": true,
   "sideBar": true,
   "skip_h1_title": true,
   "title_cell": "Table of Contents",
   "title_sidebar": "Contents",
   "toc_cell": false,
   "toc_position": {
    "height": "calc(100% - 180px)",
    "left": "10px",
    "top": "150px",
    "width": "362px"
   },
   "toc_section_display": true,
   "toc_window_display": true
  }
 },
 "nbformat": 4,
 "nbformat_minor": 2
}
